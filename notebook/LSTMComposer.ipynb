{
  "nbformat": 4,
  "nbformat_minor": 0,
  "metadata": {
    "colab": {
      "name": "LSTMComposer.ipynb",
      "provenance": [],
      "collapsed_sections": []
    },
    "kernelspec": {
      "name": "python3",
      "display_name": "Python 3"
    },
    "language_info": {
      "name": "python"
    },
    "accelerator": "GPU"
  },
  "cells": [
    {
      "cell_type": "markdown",
      "metadata": {
        "id": "UeMifCZzxfoH"
      },
      "source": [
        "# LSTM Composer\n",
        "\n",
        "Simple Stacked LSTM"
      ]
    },
    {
      "cell_type": "markdown",
      "metadata": {
        "id": "SZpbDlOciV_b"
      },
      "source": [
        "Some part of the code were taken as is (helper functions), or adapted (train and trainIters) from the pytorch tutorial \"NLP From Scratch: Translation with a Sequence to Sequence Network and Attention\" by Sean Robertson.\n",
        "\n",
        "link: https://pytorch.org/tutorials/intermediate/seq2seq_translation_tutorial.html"
      ]
    },
    {
      "cell_type": "code",
      "metadata": {
        "id": "556D6dBODBYY"
      },
      "source": [
        "import torch\n",
        "import torch.nn as nn\n",
        "import numpy as np\n",
        "import time\n",
        "import math\n",
        "import matplotlib.pyplot as plt"
      ],
      "execution_count": 13,
      "outputs": []
    },
    {
      "cell_type": "markdown",
      "metadata": {
        "id": "1qpvI9JEx9FF"
      },
      "source": [
        "Mount Disk"
      ]
    },
    {
      "cell_type": "code",
      "metadata": {
        "colab": {
          "base_uri": "https://localhost:8080/"
        },
        "id": "JeNvBRSqx_Yg",
        "outputId": "e40307f5-3a15-4393-bdfc-b9e7bded63dd"
      },
      "source": [
        "from google.colab import drive\n",
        "drive.mount('/content/drive')"
      ],
      "execution_count": 21,
      "outputs": [
        {
          "output_type": "stream",
          "text": [
            "Drive already mounted at /content/drive; to attempt to forcibly remount, call drive.mount(\"/content/drive\", force_remount=True).\n"
          ],
          "name": "stdout"
        }
      ]
    },
    {
      "cell_type": "code",
      "metadata": {
        "colab": {
          "base_uri": "https://localhost:8080/"
        },
        "id": "Mtn6kqVE3Ttk",
        "outputId": "96932916-4e90-414b-eaea-b4907daf0ccf"
      },
      "source": [
        "# mount\n",
        "path_to_project = \"/content/drive/MyDrive/Colab Notebooks/NLP6010/Project6010\" #@param string\n",
        "%cd $path_to_project"
      ],
      "execution_count": 22,
      "outputs": [
        {
          "output_type": "stream",
          "text": [
            "/content/drive/MyDrive/Colab Notebooks/NLP6010/Project6010\n"
          ],
          "name": "stdout"
        }
      ]
    },
    {
      "cell_type": "code",
      "metadata": {
        "colab": {
          "base_uri": "https://localhost:8080/",
          "height": 36
        },
        "id": "_8L1PkweClLC",
        "outputId": "c335aec2-5110-4e11-fcc5-7d08f05227a6"
      },
      "source": [
        "%pwd"
      ],
      "execution_count": 23,
      "outputs": [
        {
          "output_type": "execute_result",
          "data": {
            "application/vnd.google.colaboratory.intrinsic+json": {
              "type": "string"
            },
            "text/plain": [
              "'/content/drive/MyDrive/Colab Notebooks/NLP6010/Project6010'"
            ]
          },
          "metadata": {
            "tags": []
          },
          "execution_count": 23
        }
      ]
    },
    {
      "cell_type": "markdown",
      "metadata": {
        "id": "zUyo0aJBx0oK"
      },
      "source": [
        "Prepare the training data"
      ]
    },
    {
      "cell_type": "code",
      "metadata": {
        "id": "VCTikhqIxVZT"
      },
      "source": [
        "import numpy as np\n",
        "import torch\n",
        "import torch.nn as nn\n",
        "from torch.nn.utils.rnn import pack_padded_sequence, pad_packed_sequence\n",
        "\n",
        "device = torch.device(\"cuda\" if torch.cuda.is_available() else \"cpu\")\n",
        "\n",
        "\n",
        "def get_sentences(datapath):\n",
        "    # Get a list of tokenized sentences from a corpus\n",
        "    data = []\n",
        "    f = open(datapath, \"r\")\n",
        "    for line in f:\n",
        "        sent = [word for word in line.split(' ') if word is not '\\n']\n",
        "        data.append(sent)\n",
        "    f.close()\n",
        "\n",
        "    return data\n",
        "\n",
        "def build_vocab():\n",
        "    # Build a list with the modified vocabulary of \"Music with Expressivity...\"\n",
        "    # size: 267+1PAD = 268\n",
        "    vocab = []\n",
        "\n",
        "    #0: PAD\n",
        "    vocab.append(\"<PAD>\")\n",
        "\n",
        "    for note in range(128):\n",
        "        vocab.append(\"NOTE_ON<{}>\".format(note))\n",
        "        vocab.append(\"NOTE_OFF<{}>\".format(note))\n",
        "\n",
        "    for tick in [120, 240, 360, 480, 600, 720, 840, 960]:\n",
        "        vocab.append(\"TICKSHIFT<{}>\".format(tick))\n",
        "\n",
        "    for token in [\"<START>\", \"<END>\", \"SILENCE\"]:\n",
        "        vocab.append(token)\n",
        "\n",
        "    return vocab\n",
        "\n",
        "def build_training_batch(datapath):\n",
        "    \"\"\"\n",
        "    Create a one hot encoding for all the input data\n",
        "    \"\"\"\n",
        "    corpus = get_sentences(datapath)\n",
        "    vocab = build_vocab()\n",
        "\n",
        "    #List of indices\n",
        "    vector_seqs = [[vocab.index(tok) for tok in seq] for seq in corpus]\n",
        "\n",
        "    seq_lengths = torch.LongTensor(list(map(len, vector_seqs)))\n",
        "\n",
        "    #Pad the sequences: pad idx==0\n",
        "    seq_tensor = torch.autograd.Variable(torch.zeros((len(vector_seqs), seq_lengths.max()))).long()\n",
        "\n",
        "    for idx, (seq, seqlen) in enumerate(zip(vector_seqs, seq_lengths)):\n",
        "        seq_tensor[idx, :seqlen] = torch.LongTensor(seq)\n",
        "    #Shape: (B x S)\n",
        "\n",
        "    \"\"\"\n",
        "    #Embed the seqs\n",
        "    embed = nn.Embedding(len(vocab), embed_dim)\n",
        "    embed_seq_tensor = embed(seq_tensor) #Shape: (B x S x Emb)\n",
        "\n",
        "    #Pack seq\n",
        "    packed_input = pack_padded_sequence(embed_seq_tensor, seq_lengths.cpu().numpy(), batch_first=True, enforce_sorted=False)\n",
        "    # packed_input (PackedSequence is NamedTuple with 2 attributes: data and batch_sizes\n",
        "    \"\"\"\n",
        "    #seq_tensor: padded sequences (B x MAX_SEQ_LEN)\n",
        "    #seq_lengths: lens of each seq\n",
        "    #vocab: list of tokens\n",
        "\n",
        "    return seq_tensor, seq_lengths, vocab\n"
      ],
      "execution_count": 24,
      "outputs": []
    },
    {
      "cell_type": "markdown",
      "metadata": {
        "id": "BanSA23GC2PX"
      },
      "source": [
        "Model"
      ]
    },
    {
      "cell_type": "code",
      "metadata": {
        "id": "1dm7TWxeC3RW"
      },
      "source": [
        "\n",
        "class LSTMcomposer(nn.Module):\n",
        "    def __init__(self, in_size, hidden_size, out_size, n_stack, vocab, embed_dim):\n",
        "        super(LSTMcomposer, self).__init__()\n",
        "        self.in_size = in_size\n",
        "        self.embed_dim = embed_dim\n",
        "        self.hidden_size = hidden_size\n",
        "        self.n_stack = n_stack\n",
        "        self.out_size = out_size #correspond to 1-hot vector of an event\n",
        "\n",
        "        self.embed = nn.Embedding(len(vocab), embed_dim)\n",
        "        self.lstm = nn.LSTM(in_size, hidden_size, n_stack, batch_first=True)\n",
        "        self.out = nn.Linear(hidden_size, out_size)\n",
        "        self.softmax = nn.LogSoftmax(dim=2)\n",
        "\n",
        "    def forward(self, seq, seq_len):\n",
        "        #seq_tensor: S_MAX\n",
        "        #seq_lengths: 1\n",
        "        #input: (B, S, F)\n",
        "        #h_0: (B, n_stack, hidden_size) init state for each element in batch\n",
        "        #c_0: (B, n_stack, hidden_size) init cell state for each element in batch\n",
        "        # out, (h_n, c_n) = self.lstm(input, (h_0, c_0))\n",
        "\n",
        "        output = []\n",
        "\n",
        "        h_t = self.initHidden()\n",
        "        c_t = self.initHidden()\n",
        "\n",
        "        embed_seq = self.embed(seq)  # Shape: (S x Emb)\n",
        "        embed_seq = embed_seq.to(device)\n",
        "\n",
        "        for ti in range(seq_len):\n",
        "            out, (h_t, c_t) = self.lstm(embed_seq[ti].unsqueeze(0).unsqueeze(0), (h_t, c_t))\n",
        "            out = self.out(out)\n",
        "            score = self.softmax(out)\n",
        "            output.append(score)\n",
        "\n",
        "        output = torch.stack(output).to(device)\n",
        "\n",
        "        return output\n",
        "\n",
        "    def initHidden(self):\n",
        "        return torch.zeros(1, self.n_stack, self.hidden_size, device=device)\n",
        "    \n",
        "    def generate(self, start_token, vocab, MAX_LEN=728):\n",
        "      song = []\n",
        "\n",
        "      with torch.no_grad():\n",
        "              h_t = self.initHidden()\n",
        "              c_t = self.initHidden()\n",
        "\n",
        "      curr_idx = start_token.item()\n",
        "      \n",
        "      embed_seq = self.embed(start_token)  # Shape: (1 x Emb)\n",
        "      embed_seq = embed_seq.to(device)\n",
        "\n",
        "      for ti in range(MAX_LEN):\n",
        "          out, (h_t, c_t) = self.lstm(embed_seq.unsqueeze(0), (h_t, c_t))\n",
        "          out = self.out(out)\n",
        "          score = self.softmax(out)\n",
        "\n",
        "          sorted_ids = torch.argsort(score)\n",
        "          # print(sorted_ids.squeeze().cpu().numpy().shape)\n",
        "          for idx in sorted_ids.squeeze().cpu().numpy():\n",
        "            if idx == curr_idx:\n",
        "              pass\n",
        "            else:\n",
        "              song.append(vocab[idx])\n",
        "              curr_idx = idx\n",
        "              break\n",
        "          \n",
        "          nxt_token = torch.LongTensor([idx])\n",
        "          nxt_token = nxt_token.to(device)\n",
        "          nxt_embed = self.embed(nxt_token)\n",
        "\n",
        "          embed_seq = nxt_embed\n",
        "\n",
        "          if song[-1] == '<END>':\n",
        "            break\n",
        "\n",
        "      return song\n"
      ],
      "execution_count": 25,
      "outputs": []
    },
    {
      "cell_type": "code",
      "metadata": {
        "id": "N6ziRXwP7zku"
      },
      "source": [
        "#Train for 1 epoch\n",
        "def train(lstm, lstm_optim, criterion, seq_tensor, seq_lengths):\n",
        "\n",
        "  S_MAX = seq_tensor.shape[1]\n",
        "  batch_size = seq_tensor.shape[0]\n",
        "  loss = 0\n",
        "\n",
        "  lstm_optim.zero_grad()\n",
        "\n",
        "  #todo: Change to batch size FOR REAL\n",
        "  for ei in range(batch_size):\n",
        "    seq = seq_tensor[ei]\n",
        "    seq_len = seq_lengths[ei]\n",
        "    logits = lstm(seq, seq_len)\n",
        "    logits = logits.squeeze().squeeze()\n",
        "\n",
        "    #Build target: end token have pad as their target\n",
        "    target = np.zeros(seq_len)\n",
        "    labels = seq.cpu().numpy()\n",
        "    target[:(seq_len-1)] = labels[1:seq_len]\n",
        "    target = torch.LongTensor(target)\n",
        "    target = target.to(device)\n",
        "\n",
        "    loss = loss + criterion(logits, target)\n",
        "\n",
        "  loss.backward()\n",
        "  lstm_optim.step()\n",
        "\n",
        "  return loss.item()/ S_MAX"
      ],
      "execution_count": 26,
      "outputs": []
    },
    {
      "cell_type": "code",
      "metadata": {
        "id": "KUjZPXQfCx67"
      },
      "source": [
        "#Helper fcts\n",
        "\n",
        "def showPlot(points):\n",
        "    plt.figure()\n",
        "    fig, ax = plt.subplots()\n",
        "    # # this locator puts ticks at regular intervals\n",
        "    # loc = ticker.MultipleLocator(base=0.2)\n",
        "    # ax.yaxis.set_major_locator(loc)\n",
        "    plt.plot(points)\n",
        "\n",
        "def asMinutes(s):\n",
        "    m = math.floor(s / 60)\n",
        "    s -= m * 60\n",
        "    return '%dm %ds' % (m, s)\n",
        "\n",
        "\n",
        "def timeSince(since, percent):\n",
        "    now = time.time()\n",
        "    s = now - since\n",
        "    es = s / (percent)\n",
        "    rs = es - s\n",
        "    return '%s (- %s)' % (asMinutes(s), asMinutes(rs))\n",
        "\n",
        "\n",
        "def trainItersLSTM(lstm, seq_tensor, seq_lengths, n_iter, print_every=1000, plot_every=100, save_every=2, lr=0.01):\n",
        "    start = time.time()\n",
        "    plot_losses = []\n",
        "    print_loss_total = 0 #reset every print_every\n",
        "    plot_loss_total = 0 #reset every plot_every\n",
        "\n",
        "    lstm_optim = torch.optim.Adam(lstm.parameters(), lr)\n",
        "\n",
        "    criterion = nn.NLLLoss()\n",
        "\n",
        "    for iter in range(1,n_iter+1):\n",
        "        loss = train(lstm, lstm_optim, criterion, seq_tensor, seq_lengths)\n",
        "\n",
        "        print_loss_total = print_loss_total + loss\n",
        "        plot_loss_total = plot_loss_total + loss\n",
        "\n",
        "        if iter % save_every == 0:\n",
        "            torch.save({'epoch': iter,\n",
        "                        'model_state_dict': lstm.state_dict(),\n",
        "                        'optimizer_state_dict': lstm_optim.state_dict(),\n",
        "                        'loss': loss\n",
        "                        }, 'lstm.pth')\n",
        "            print(\"~Saved checkpoint\")\n",
        "\n",
        "        if iter % print_every ==0:\n",
        "            print_loss_avg = print_loss_total / print_every\n",
        "            print_loss_total = 0\n",
        "            print('%s (%d %d%%) %.4f' % (timeSince(start, iter / n_iter),\n",
        "                                         iter, iter / n_iter * 100,\n",
        "                                         print_loss_avg))\n",
        "\n",
        "        if iter % plot_every ==0:\n",
        "            plot_loss_avg = plot_loss_total / plot_every\n",
        "            plot_losses.append(plot_loss_avg)\n",
        "            plot_loss_total = 0\n",
        "\n",
        "\n",
        "\n",
        "    #Save models\n",
        "    torch.save(lstm.state_dict(), \"lstm.pt\")\n",
        "\n",
        "    showPlot(plot_losses)\n",
        "\n",
        "    return 0"
      ],
      "execution_count": 27,
      "outputs": []
    },
    {
      "cell_type": "code",
      "metadata": {
        "colab": {
          "base_uri": "https://localhost:8080/",
          "height": 1000
        },
        "id": "7qge5WK7DxWX",
        "outputId": "75c7efd9-e455-41e2-cfe6-2cf794fc0b2e"
      },
      "source": [
        "seed = 0\n",
        "np.random.seed(seed)\n",
        "torch.manual_seed(seed)\n",
        "\n",
        "datapath = r\"corpus.txt\"\n",
        "\n",
        "embed_dim = 400\n",
        "hid_size = 600\n",
        "seq_tensor, seq_lengths, vocab = build_training_batch(datapath)\n",
        "seq_tensor = seq_tensor.to(device)\n",
        "\n",
        "lstm = LSTMcomposer(in_size=embed_dim, hidden_size=hid_size, out_size=len(vocab), n_stack=1, vocab=vocab, embed_dim=embed_dim)\n",
        "lstm.to(device)\n",
        "\n",
        "trainItersLSTM(lstm, seq_tensor, seq_lengths, n_iter=100, print_every=2, plot_every=5, save_every=2, lr=0.01)"
      ],
      "execution_count": 28,
      "outputs": [
        {
          "output_type": "stream",
          "text": [
            "~Saved checkpoint\n",
            "4m 24s (- 215m 48s) (2 2%) 1.5369\n",
            "~Saved checkpoint\n",
            "8m 48s (- 211m 23s) (4 4%) 1.3444\n",
            "~Saved checkpoint\n",
            "13m 11s (- 206m 41s) (6 6%) 1.1861\n",
            "~Saved checkpoint\n",
            "17m 33s (- 202m 0s) (8 8%) 0.9869\n",
            "~Saved checkpoint\n",
            "21m 57s (- 197m 35s) (10 10%) 0.8268\n",
            "~Saved checkpoint\n",
            "26m 20s (- 193m 11s) (12 12%) 0.7771\n",
            "~Saved checkpoint\n",
            "30m 44s (- 188m 47s) (14 14%) 0.7203\n",
            "~Saved checkpoint\n",
            "35m 7s (- 184m 24s) (16 16%) 0.6782\n",
            "~Saved checkpoint\n",
            "39m 31s (- 180m 2s) (18 18%) 0.6364\n",
            "~Saved checkpoint\n",
            "43m 54s (- 175m 39s) (20 20%) 0.5977\n",
            "~Saved checkpoint\n",
            "48m 18s (- 171m 15s) (22 22%) 0.5603\n",
            "~Saved checkpoint\n",
            "52m 42s (- 166m 54s) (24 24%) 0.5245\n",
            "~Saved checkpoint\n",
            "57m 5s (- 162m 29s) (26 26%) 0.4923\n",
            "~Saved checkpoint\n",
            "61m 29s (- 158m 6s) (28 28%) 0.4644\n",
            "~Saved checkpoint\n",
            "65m 53s (- 153m 44s) (30 30%) 0.4357\n",
            "~Saved checkpoint\n",
            "70m 17s (- 149m 22s) (32 32%) 0.4127\n",
            "~Saved checkpoint\n",
            "74m 41s (- 144m 59s) (34 34%) 0.3925\n",
            "~Saved checkpoint\n",
            "79m 4s (- 140m 35s) (36 36%) 0.3736\n",
            "~Saved checkpoint\n",
            "83m 28s (- 136m 12s) (38 38%) 0.3551\n",
            "~Saved checkpoint\n",
            "87m 53s (- 131m 49s) (40 40%) 0.3384\n",
            "~Saved checkpoint\n",
            "92m 17s (- 127m 27s) (42 42%) 0.3314\n",
            "~Saved checkpoint\n",
            "96m 41s (- 123m 4s) (44 44%) 0.3197\n",
            "~Saved checkpoint\n",
            "101m 6s (- 118m 41s) (46 46%) 0.3042\n",
            "~Saved checkpoint\n",
            "105m 31s (- 114m 19s) (48 48%) 0.2917\n",
            "~Saved checkpoint\n",
            "109m 55s (- 109m 55s) (50 50%) 0.2784\n",
            "~Saved checkpoint\n",
            "114m 19s (- 105m 32s) (52 52%) 0.2662\n",
            "~Saved checkpoint\n",
            "118m 44s (- 101m 8s) (54 54%) 0.2553\n",
            "~Saved checkpoint\n",
            "123m 8s (- 96m 45s) (56 56%) 0.2434\n",
            "~Saved checkpoint\n",
            "127m 32s (- 92m 21s) (58 57%) 0.2326\n",
            "~Saved checkpoint\n",
            "131m 56s (- 87m 57s) (60 60%) 0.2243\n",
            "~Saved checkpoint\n",
            "136m 19s (- 83m 33s) (62 62%) 0.2290\n",
            "~Saved checkpoint\n",
            "140m 43s (- 79m 9s) (64 64%) 0.2294\n",
            "~Saved checkpoint\n",
            "145m 8s (- 74m 46s) (66 66%) 0.2183\n",
            "~Saved checkpoint\n",
            "149m 34s (- 70m 23s) (68 68%) 0.2058\n",
            "~Saved checkpoint\n",
            "153m 59s (- 65m 59s) (70 70%) 0.1957\n",
            "~Saved checkpoint\n",
            "158m 26s (- 61m 36s) (72 72%) 0.1868\n",
            "~Saved checkpoint\n",
            "162m 53s (- 57m 13s) (74 74%) 0.1773\n",
            "~Saved checkpoint\n",
            "167m 19s (- 52m 50s) (76 76%) 0.1683\n",
            "~Saved checkpoint\n",
            "171m 44s (- 48m 26s) (78 78%) 0.1612\n",
            "~Saved checkpoint\n",
            "176m 8s (- 44m 2s) (80 80%) 0.1642\n",
            "~Saved checkpoint\n",
            "180m 32s (- 39m 37s) (82 82%) 0.1516\n",
            "~Saved checkpoint\n",
            "184m 56s (- 35m 13s) (84 84%) 0.1445\n",
            "~Saved checkpoint\n",
            "189m 21s (- 30m 49s) (86 86%) 0.1367\n",
            "~Saved checkpoint\n",
            "193m 45s (- 26m 25s) (88 88%) 0.1304\n",
            "~Saved checkpoint\n",
            "198m 9s (- 22m 1s) (90 90%) 0.1247\n",
            "~Saved checkpoint\n",
            "202m 33s (- 17m 36s) (92 92%) 0.1252\n",
            "~Saved checkpoint\n",
            "206m 58s (- 13m 12s) (94 94%) 0.1278\n",
            "~Saved checkpoint\n",
            "211m 23s (- 8m 48s) (96 96%) 0.1152\n",
            "~Saved checkpoint\n",
            "215m 46s (- 4m 24s) (98 98%) 0.1081\n",
            "~Saved checkpoint\n",
            "220m 11s (- 0m 0s) (100 100%) 0.1011\n"
          ],
          "name": "stdout"
        },
        {
          "output_type": "execute_result",
          "data": {
            "text/plain": [
              "0"
            ]
          },
          "metadata": {
            "tags": []
          },
          "execution_count": 28
        },
        {
          "output_type": "display_data",
          "data": {
            "text/plain": [
              "<Figure size 432x288 with 0 Axes>"
            ]
          },
          "metadata": {
            "tags": []
          }
        },
        {
          "output_type": "display_data",
          "data": {
            "image/png": "[encoded data removed]",
            "text/plain": [
              "<Figure size 432x288 with 1 Axes>"
            ]
          },
          "metadata": {
            "tags": [],
            "needs_background": "light"
          }
        }
      ]
    }
  ]
}